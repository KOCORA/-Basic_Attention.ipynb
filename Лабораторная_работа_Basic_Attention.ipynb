{
  "nbformat": 4,
  "nbformat_minor": 5,
  "metadata": {
    "kernelspec": {
      "display_name": "Python 3",
      "language": "python",
      "name": "python3"
    },
    "language_info": {
      "codemirror_mode": {
        "name": "ipython",
        "version": 3
      },
      "file_extension": ".py",
      "mimetype": "text/x-python",
      "name": "python",
      "nbconvert_exporter": "python",
      "pygments_lexer": "ipython3",
      "version": "3.7.6"
    },
    "colab": {
      "provenance": [],
      "include_colab_link": true
    }
  },
  "cells": [
    {
      "cell_type": "markdown",
      "metadata": {
        "id": "view-in-github",
        "colab_type": "text"
      },
      "source": [
        "<a href=\"https://colab.research.google.com/github/KOCORA/-Basic_Attention.ipynb/blob/master/%D0%9B%D0%B0%D0%B1%D0%BE%D1%80%D0%B0%D1%82%D0%BE%D1%80%D0%BD%D0%B0%D1%8F_%D1%80%D0%B0%D0%B1%D0%BE%D1%82%D0%B0_Basic_Attention.ipynb\" target=\"_parent\"><img src=\"https://colab.research.google.com/assets/colab-badge.svg\" alt=\"Open In Colab\"/></a>"
      ]
    },
    {
      "cell_type": "markdown",
      "metadata": {
        "id": "l4h8RcdhrscT"
      },
      "source": [
        "# Базовый процесс механизма внимания\n",
        "\n",
        "Как вы уже знаете, механизм внимания позволяет декодеру seq2seq использовать информацию из каждого слова на входе кодировщика, а не только последнее скрытое состояние кодировщика, как в классических рекуррентных моделях. В процессе внимания выходы кодировщика взвешиваются, базируясь на скрытом состоянии декодера, после чего объединяются в один вектор контекста. Затем этот вектор используется в качестве входа декодера для прогнозирования следующего шага вывода.\n",
        "\n",
        "\n",
        "В этой лабораторной работе без оценки вы реализуете базовый процесс внимания, как описано в [Bhadanau, et al (2014)](https://arxiv.org/abs/1409.0473)\n",
        "\n",
        "Вы создадите нейронную сеть из двух слоёв без использования специальных инструментов `tensorflow` и `keras`, а только лишь при помощи операций библиотеки `numpy`. Это позволит вам подробнее познакомиться с внутренним устройством слоёв нейронных сетей на простых примерах.\n",
        "\n",
        " Каждый шаг, который вы будете кодировать, подробно описан, вам остается только прочитать и перевести на `python`."
      ],
      "id": "l4h8RcdhrscT"
    },
    {
      "cell_type": "code",
      "metadata": {
        "id": "JAcQbXqnrsch"
      },
      "source": [
        "# Сначала запустите эту небольшую настройку для остальной части лабораторной\n",
        "import numpy as np\n",
        "\n",
        "def softmax(x, axis=0):\n",
        "    \"\"\" Вычисляет функцию softmax для массива x вдоль указанных осей координат\n",
        "\n",
        "        axis=0 softmax вычисляется по строкам, это означает, что сумма по каждой колонке будет равна 1\n",
        "        axis=1 softmax вычисляется по колонкам, это означает, что сумма по каждой строке будет равна 1\n",
        "    \"\"\"\n",
        "    return np.exp(x) / np.expand_dims(np.sum(np.exp(x), axis=axis), axis)"
      ],
      "id": "JAcQbXqnrsch",
      "execution_count": 1,
      "outputs": []
    },
    {
      "cell_type": "markdown",
      "metadata": {
        "id": "-i0S0AD-rsck"
      },
      "source": [
        "## 1: Расчет баллов alignment (выравнивания)\n",
        "\n",
        "Баллы alignment - мера сходства между текущим скрытым состоянием декодера и каждым скрытым состоянием кодировщика. В статье эта операция выглядит как\n",
        "$$\n",
        "\\large e_{ij} = v_a^\\top \\tanh{\\left(W_a s_{i-1} + U_a h_j\\right)}\n",
        "$$\n",
        "\n",
        "где $W_a \\in \\mathbb{R}^{n\\times m}$, $U_a \\in \\mathbb{R}^{n \\times m}$, и $v_a \\in \\mathbb{R}^m$ -  матрицы весов  слоёв, а $n$ - размер скрытого состояния. На практике это реализуется как нейронная сеть прямого хода с двумя слоями, где $m$ - количество нейронов в каждом слое сети alignment и выглядит примерно так:"
      ],
      "id": "-i0S0AD-rsck"
    },
    {
      "cell_type": "markdown",
      "metadata": {
        "id": "ZM_iIt9axlbH"
      },
      "source": [
        "![image.png](data:image/png;base64,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)"
      ],
      "id": "ZM_iIt9axlbH"
    },
    {
      "cell_type": "markdown",
      "metadata": {
        "id": "lh9WMVGexh0y"
      },
      "source": [
        "где \\\n",
        "$h_j$ - скрытые состояния кодировщика для каждого шага ввода $j$,\\\n",
        "$s_{i - 1}$ - скрытое состояние декодера на предыдущем шаге.\\\n",
        "веса первого слоя dense соответствуют $W_a$ и $U_a$ из формулы, веса второго слоя dense - $v_a$.\n",
        "\n",
        "Реализация:\n",
        "1. Конкатенацией скрытых состояний кодировщика и декодера создайте массив с размером $K \\times 2n$ где $K$ - количество шагов (состояний) кодировщика. Для этого используется `np.concatenate` ([docs](https://numpy.org/doc/stable/reference/generated/numpy.concatenate.html)). Имейте в виду, что у декодера есть только **одно** состояние, поэтому вам нужно изменить его `shape`, чтобы успешно объединить массивы. Самое простое - использовать `decoder_state.repeat` ([docs](https://numpy.org/doc/stable/reference/generated/numpy.repeat.html#numpy.repeat)) для получения одинаковых размеров массивов скрытых состояний.\n",
        "2. примените первый слой как матричное умножение между весами и объединенным входом. Используйте функцию `tanh`, в качестве активации.\n",
        "3. вычислив матричное умножение весов второго слоя и полученных активаций, вы получите баллы alignment.\n"
      ],
      "id": "lh9WMVGexh0y"
    },
    {
      "cell_type": "code",
      "metadata": {
        "id": "CK6ABNrh1xus"
      },
      "source": [
        "hidden_size = 16\n",
        "attention_size = 10\n",
        "input_length = 5\n",
        "\n",
        "\n",
        "np.random.seed(42)\n",
        "\n",
        "# синтезированные векторы для тестирования\n",
        "encoder_states = np.random.randn(input_length, hidden_size)\n",
        "decoder_state = np.random.randn(1, hidden_size)\n",
        "\n",
        "# Веса для нейронной сети обычно обучаются в процессе обучения нейронной сети.\n",
        "# Используйте их в функции выверки (alignment) как веса слоя.\n",
        "layer_1 = np.random.randn(2*hidden_size, attention_size)\n",
        "layer_2 = np.random.randn(attention_size, 1)\n",
        "\n",
        "# Реализация функции выверки.\n",
        "def alignment(encoder_states, decoder_state):\n",
        "\n",
        "    # конкатенация состояния кодировщика и состояния декодера\n",
        "\n",
        "    inputs = np.concatenate((encoder_states, decoder_state.repeat(input_length, axis = 0)), axis = 1)\n",
        "    #######################\n",
        "    assert inputs.shape == (input_length, 2*hidden_size)\n",
        "\n",
        "    # Матричное умножение объединенного входа и layer_1, с последующей активацией tanh\n",
        "    #ЗДЕСЬ ВАШ КОД\n",
        "    activations = np.tanh(np.matmul(inputs, layer_1))\n",
        "    #######################\n",
        "    assert activations.shape == (input_length, attention_size)\n",
        "\n",
        "    # Матричное умножение полученных активаций и layer_2. Помните, что tanh здесь уже не нужен\n",
        "    #ЗДЕСЬ ВАШ КОД\n",
        "    scores = np.matmul(activations, layer_2)\n",
        "    #######################\n",
        "    assert scores.shape == (input_length, 1)\n",
        "\n",
        "    return scores"
      ],
      "id": "CK6ABNrh1xus",
      "execution_count": 2,
      "outputs": []
    },
    {
      "cell_type": "code",
      "metadata": {
        "id": "EyorqI00rscm",
        "outputId": "455a576a-f7b3-4dd4-9490-d889393a1656",
        "colab": {
          "base_uri": "https://localhost:8080/"
        }
      },
      "source": [
        "# Проверка функции выверки\n",
        "scores = alignment(encoder_states, decoder_state)\n",
        "print(scores)"
      ],
      "id": "EyorqI00rscm",
      "execution_count": 3,
      "outputs": [
        {
          "output_type": "stream",
          "name": "stdout",
          "text": [
            "[[4.35790943]\n",
            " [5.92373433]\n",
            " [4.18673175]\n",
            " [2.11437202]\n",
            " [0.95767155]]\n"
          ]
        }
      ]
    },
    {
      "cell_type": "markdown",
      "metadata": {
        "id": "U80--bd1rscn"
      },
      "source": [
        "Ожидаемый вывод:\n",
        "\n",
        "```python\n",
        "[[4.35790943]\n",
        " [5.92373433]\n",
        " [4.18673175]\n",
        " [2.11437202]\n",
        " [0.95767155]]\n",
        "```"
      ],
      "id": "U80--bd1rscn"
    },
    {
      "cell_type": "markdown",
      "metadata": {
        "id": "1uQmpsC7rscn"
      },
      "source": [
        "## 2: Превращение баллов выверки в веса:\n",
        "\n",
        "Следующий шаг - вычисление весов по баллам выверки. Эти веса определяют выходы кодировщика, наиболее важные для выхода декодера. Эти веса должны быть между 0 и 1 и в сумме равны 1. Вы можете использовать функцию `softmax` (уже реализована выше), чтобы получить эти веса из оценок внимания. Вектор баллов внимания передаётся функции `softmax`. Математически, это\n",
        "\n",
        "$$\n",
        "\\large \\alpha_{ij} = \\frac{\\exp{\\left(e_{ij}\\right)}}{\\sum_{k=1}^K \\exp{\\left(e_{ik}\\right)}}\n",
        "$$\n",
        "\n",
        "## 3: Взвесьте выходные векторы кодировщика и просуммируйте\n",
        "\n",
        "Веса говорят вам о важности каждого входного слова по отношению к состоянию декодера. На этом этапе вы используете веса для модуляции величины векторов кодировщика. Влияние слов с меньшей важностью будут уменьшены по сравнению с более важными словами. Для этого каждый вектор кодировщика умножается на соответствующий вес. Затем  полученные взвешенные векторы выверки суммируются, чтобы получить вектор контекста. Математически,\n",
        "\n",
        "$$\n",
        "\\large c_i = \\sum_{j=1}^K\\alpha_{ij} h_{j}\n",
        "$$\n",
        "\n",
        "Реализуйте эти шаги в функции `attention`:"
      ],
      "id": "1uQmpsC7rscn"
    },
    {
      "cell_type": "code",
      "metadata": {
        "id": "xMNmld_Ursco",
        "outputId": "1fe4fe07-0c87-4cb9-95f9-5dede6c009e1",
        "colab": {
          "base_uri": "https://localhost:8080/"
        }
      },
      "source": [
        "def attention(encoder_states, decoder_state):\n",
        "    \"\"\" Пример функции, вычисляющей внимание и возвращающей вектор контекста\n",
        "\n",
        "        Arguments:\n",
        "        encoder_vectors: N x M numpy-вектор, где N - количество векторов и M длина вектора\n",
        "        decoder_vector: 1 x M numpy-вектор, M длина вектора, такая же как у encoder_vectors\n",
        "    \"\"\"\n",
        "\n",
        "    # 1. Вычисление баллов выверки\n",
        "\n",
        "    #######################\n",
        "    scores = scores = alignment(encoder_states, decoder_state)\n",
        "\n",
        "    # 2. Пропустить баллы выверки через функцию softmax для получения распределения весов\n",
        "\n",
        "    weights = softmax(scores)\n",
        "    #######################\n",
        "\n",
        "    # Умножить каждое состояние кодировщика на соответствующий вес\n",
        "\n",
        "    weighted_scores = np.dot(encoder_states.T, weights)\n",
        "    #######################\n",
        "\n",
        "    # Суммировать взвешенные баллы выверки для получения вектора контекста\n",
        "\n",
        "    context = np.sum(weighted_scores, axis=1)\n",
        "    #######################\n",
        "    return context\n",
        "\n",
        "context_vector = attention(encoder_states, decoder_state)\n",
        "print(context_vector)"
      ],
      "id": "xMNmld_Ursco",
      "execution_count": 4,
      "outputs": [
        {
          "output_type": "stream",
          "name": "stdout",
          "text": [
            "[-0.63514569  0.04917298 -0.43930867 -0.9268003   1.01903919 -0.43181409\n",
            "  0.13365099 -0.84746874 -0.37572203  0.18279832 -0.90452701  0.17872958\n",
            " -0.58015282 -0.58294027 -0.75457577  1.32985756]\n"
          ]
        }
      ]
    },
    {
      "cell_type": "markdown",
      "metadata": {
        "id": "O-Eym7Vnrscp"
      },
      "source": [
        "Ожидаемый вывод:\n",
        "\n",
        "```python\n",
        "[-0.63514569  0.04917298 -0.43930867 -0.9268003   1.01903919 -0.43181409\n",
        "  0.13365099 -0.84746874 -0.37572203  0.18279832 -0.90452701  0.17872958\n",
        " -0.58015282 -0.58294027 -0.75457577  1.32985756]\n",
        "```\n",
        "\n"
      ],
      "id": "O-Eym7Vnrscp"
    }
  ]
}